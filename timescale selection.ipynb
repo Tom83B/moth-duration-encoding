{
 "cells": [
  {
   "cell_type": "code",
   "execution_count": 18,
   "id": "1ef4599e-fcfd-4093-b7d1-1794af231456",
   "metadata": {},
   "outputs": [],
   "source": [
    "import numpy as np\n",
    "import matplotlib.pyplot as plt\n",
    "from sklearn.linear_model import LassoCV\n",
    "from sklearn.metrics import explained_variance_score\n",
    "\n",
    "from lfpan import get_means\n",
    "from utils import filter_expon\n",
    "plt.style.use('pcb')"
   ]
  },
  {
   "cell_type": "code",
   "execution_count": 12,
   "id": "0776c54a-7dcf-4d13-aca6-7e2ac3931cad",
   "metadata": {},
   "outputs": [],
   "source": [
    "dt = 1e-4\n",
    "mean_kdes, mean_lfps, tt = get_means(bw=0.005, span=(-1,8), dt=dt, cutoff=50)"
   ]
  },
  {
   "cell_type": "code",
   "execution_count": 16,
   "id": "6a7262cb-3d2e-4ec3-a381-bc636a8947e7",
   "metadata": {},
   "outputs": [
    {
     "name": "stdout",
     "output_type": "stream",
     "text": [
      "CPU times: user 1h 27min 44s, sys: 12.4 s, total: 1h 27min 56s\n",
      "Wall time: 5min 16s\n"
     ]
    }
   ],
   "source": [
    "%%time\n",
    "N_tau = 20\n",
    "N_shape = 17\n",
    "\n",
    "taus = np.concatenate([np.logspace(-3, np.log10(3), N_tau)] * N_shape)\n",
    "shapes = np.concatenate([np.ones(N_tau)*alpha for alpha in np.linspace(1, 5, N_shape)])\n",
    "\n",
    "X_2 = np.array([filter_expon(mean_lfps[2], tau, shape, dt) for tau, shape in zip(taus, shapes)]).T\n",
    "X_02 = np.array([filter_expon(mean_lfps[0.2], tau, shape, dt) for tau, shape in zip(taus, shapes)]).T\n",
    "X_002 = np.array([filter_expon(mean_lfps[0.02], tau, shape, dt) for tau, shape in zip(taus, shapes)]).T"
   ]
  },
  {
   "cell_type": "code",
   "execution_count": 19,
   "id": "a290e320-76b6-4963-a458-f8737f158822",
   "metadata": {},
   "outputs": [
    {
     "name": "stdout",
     "output_type": "stream",
     "text": [
      "0.9826485074139509 0.00014034391678128746\n",
      "CPU times: user 15min 39s, sys: 3.92 s, total: 15min 43s\n",
      "Wall time: 52.6 s\n"
     ]
    }
   ],
   "source": [
    "%%time\n",
    "\n",
    "reg = LassoCV(normalize=True, tol=1e-3, max_iter=100000)\n",
    "\n",
    "y = mean_kdes[2]\n",
    "\n",
    "resp_mask = ((tt > -1) & (tt < 2))\n",
    "\n",
    "reg.fit(X_2[resp_mask], y[resp_mask])\n",
    "pred = reg.predict(X_2)\n",
    "pred[pred < 0] = 0\n",
    "score = explained_variance_score(y, pred)\n",
    "print(score, reg.alpha_)"
   ]
  },
  {
   "cell_type": "code",
   "execution_count": 23,
   "id": "551b971b-ac48-4fbc-a730-e3a98c49478a",
   "metadata": {},
   "outputs": [
    {
     "data": {
      "image/png": "[encoded data removed]",
      "text/plain": [
       "<Figure size 330x270 with 1 Axes>"
      ]
     },
     "metadata": {
      "needs_background": "light"
     },
     "output_type": "display_data"
    }
   ],
   "source": [
    "N_tau = 20\n",
    "N_shape = 17\n",
    "\n",
    "tau_expons = np.linspace(-3, np.log10(3), N_tau)\n",
    "taus = np.logspace(-3, np.log10(3), N_tau)\n",
    "shapes = np.linspace(1, 5, N_shape)\n",
    "\n",
    "taus_arr = np.concatenate([taus] * N_shape)\n",
    "shapes_arr = np.concatenate([np.ones(N_tau)*alpha for alpha in shapes])\n",
    "\n",
    "dtau = tau_expons[1] - tau_expons[0]\n",
    "dshape = shapes[1] - shapes[0]\n",
    "\n",
    "vlim = 10\n",
    "\n",
    "extent = [tau_expons[0]-dtau/2, tau_expons[-1]+dtau/2, shapes[0]-dshape/2, shapes[-1]+dshape/2]\n",
    "\n",
    "fig, ax = plt.subplots(figsize=(2.2*1.5,1.8*1.5))\n",
    "\n",
    "def plot_heatmap(ax, ms=10):\n",
    "    ax.imshow(reg.coef_.reshape((N_shape,N_tau)), aspect='auto', cmap='bwr', vmin=-vlim, vmax=vlim, extent=extent, origin='lower')\n",
    "\n",
    "    xticks = np.linspace(-3, 0., 4)\n",
    "    ax.set_xticks(xticks)\n",
    "    # ax.set_xticklabels([fr'$10^{{{x}}}$' for x in xticks])\n",
    "    ax.set_xticklabels([fr'$10^{{{x:.0f}}}$' for x in xticks])\n",
    "#     ax.set_xlabel(r'$\\log_{10}\\left[\\tau\\,\\mathrm{(s)}\\right]$')\n",
    "    ax.set_xlabel(r'$\\tau\\,(s)$')\n",
    "    ax.set_ylabel(r'$\\alpha$')\n",
    "\n",
    "    ax.scatter([-3, np.log10(0.04), np.log10(0.8)], [1,1,1], color=['white','black','black'], s=ms, marker='x')\n",
    "    \n",
    "plot_heatmap(ax)"
   ]
  }
 ],
 "metadata": {
  "kernelspec": {
   "display_name": "Python 3 (ipykernel)",
   "language": "python",
   "name": "python3"
  },
  "language_info": {
   "codemirror_mode": {
    "name": "ipython",
    "version": 3
   },
   "file_extension": ".py",
   "mimetype": "text/x-python",
   "name": "python",
   "nbconvert_exporter": "python",
   "pygments_lexer": "ipython3",
   "version": "3.8.5"
  }
 },
 "nbformat": 4,
 "nbformat_minor": 5
}
