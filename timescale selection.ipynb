{
 "cells": [
  {
   "cell_type": "code",
   "execution_count": 1,
   "id": "1ef4599e-fcfd-4093-b7d1-1794af231456",
   "metadata": {},
   "outputs": [],
   "source": [
    "import numpy as np\n",
    "import matplotlib.pyplot as plt\n",
    "from sklearn.linear_model import LassoCV\n",
    "from sklearn.metrics import explained_variance_score\n",
    "from sklearn.pipeline import make_pipeline\n",
    "from sklearn.preprocessing import StandardScaler\n",
    "\n",
    "from lfpan import get_means\n",
    "from utils import filter_expon\n",
    "plt.style.use('pcb')"
   ]
  },
  {
   "cell_type": "code",
   "execution_count": 2,
   "id": "0776c54a-7dcf-4d13-aca6-7e2ac3931cad",
   "metadata": {},
   "outputs": [],
   "source": [
    "dt = 1e-4\n",
    "mean_kdes, mean_lfps, tt = get_means(bw=0.005, span=(-1,8), dt=dt, cutoff=50, sig=0)"
   ]
  },
  {
   "cell_type": "code",
   "execution_count": 4,
   "id": "6a7262cb-3d2e-4ec3-a381-bc636a8947e7",
   "metadata": {},
   "outputs": [
    {
     "name": "stdout",
     "output_type": "stream",
     "text": [
      "CPU times: user 1h 19min 41s, sys: 12.7 s, total: 1h 19min 53s\n",
      "Wall time: 4min 48s\n"
     ]
    }
   ],
   "source": [
    "%%time\n",
    "N_tau = 20\n",
    "N_shape = 17\n",
    "\n",
    "taus = np.concatenate([np.logspace(-3, np.log10(3), N_tau)] * N_shape)\n",
    "shapes = np.concatenate([np.ones(N_tau)*alpha for alpha in np.linspace(1, 5, N_shape)])\n",
    "\n",
    "X_2 = np.array([filter_expon(mean_lfps[2], tau, shape, dt) for tau, shape in zip(taus, shapes)]).T\n",
    "X_02 = np.array([filter_expon(mean_lfps[0.2], tau, shape, dt) for tau, shape in zip(taus, shapes)]).T\n",
    "X_002 = np.array([filter_expon(mean_lfps[0.02], tau, shape, dt) for tau, shape in zip(taus, shapes)]).T"
   ]
  },
  {
   "cell_type": "code",
   "execution_count": 8,
   "id": "a290e320-76b6-4963-a458-f8737f158822",
   "metadata": {},
   "outputs": [
    {
     "name": "stderr",
     "output_type": "stream",
     "text": [
      "[Parallel(n_jobs=1)]: Using backend SequentialBackend with 1 concurrent workers.\n",
      "....................................................................................................................................................................................................................................................................................................................................................................................................................................................................................................................[Parallel(n_jobs=1)]: Done   5 out of   5 | elapsed:    1.4s finished\n"
     ]
    },
    {
     "name": "stdout",
     "output_type": "stream",
     "text": [
      "0.9826485074139486 0.024308279439840878\n",
      "CPU times: user 15min 40s, sys: 3.98 s, total: 15min 44s\n",
      "Wall time: 52.7 s\n"
     ]
    }
   ],
   "source": [
    "%%time\n",
    "\n",
    "reg = LassoCV(tol=1e-3, max_iter=100000, verbose=True)\n",
    "\n",
    "ppl = make_pipeline(StandardScaler(with_mean=False), reg)\n",
    "\n",
    "y = mean_kdes[2]\n",
    "\n",
    "resp_mask = ((tt > -1) & (tt < 2))\n",
    "\n",
    "ppl.fit(X_2[resp_mask], y[resp_mask])\n",
    "pred = ppl.predict(X_2)\n",
    "pred[pred < 0] = 0\n",
    "score = explained_variance_score(y, pred)\n",
    "print(score, reg.alpha_)"
   ]
  },
  {
   "cell_type": "code",
   "execution_count": 31,
   "id": "a54edd6a-6c06-4000-9e99-bf028e72326f",
   "metadata": {
    "tags": []
   },
   "outputs": [
    {
     "data": {
      "image/png": "[encoded data removed]",
      "text/plain": [
       "<Figure size 330x270 with 1 Axes>"
      ]
     },
     "metadata": {},
     "output_type": "display_data"
    }
   ],
   "source": [
    "N_tau = 20\n",
    "N_shape = 17\n",
    "\n",
    "tau_expons = np.linspace(-3, np.log10(3), N_tau)\n",
    "taus = np.logspace(-3, np.log10(3), N_tau)\n",
    "shapes = np.linspace(1, 5, N_shape)\n",
    "\n",
    "taus_arr = np.concatenate([taus] * N_shape)\n",
    "shapes_arr = np.concatenate([np.ones(N_tau)*alpha for alpha in shapes])\n",
    "\n",
    "dtau = tau_expons[1] - tau_expons[0]\n",
    "dshape = shapes[1] - shapes[0]\n",
    "\n",
    "# vlim = np.abs(reg.coef_).max()\n",
    "vlim = reg.coef_.max()\n",
    "\n",
    "extent = [tau_expons[0]-dtau/2, tau_expons[-1]+dtau/2, shapes[0]-dshape/2, shapes[-1]+dshape/2]\n",
    "\n",
    "fig, ax = plt.subplots(figsize=(2.2*1.5,1.8*1.5))\n",
    "\n",
    "def plot_heatmap(ax, ms=10):\n",
    "    # ax.imshow(reg.coef_.reshape((N_shape,N_tau)), aspect='auto', cmap='bwr', vmin=-vlim, vmax=vlim, extent=extent, origin='lower')\n",
    "    ax.imshow(reg.coef_.reshape((N_shape,N_tau)), aspect='auto', cmap='bwr', vmin=-vlim, vmax=vlim, extent=extent, origin='lower')\n",
    "\n",
    "    xticks = np.linspace(-3, 0., 4)\n",
    "    ax.set_xticks(xticks)\n",
    "    # ax.set_xticklabels([fr'$10^{{{x}}}$' for x in xticks])\n",
    "    ax.set_xticklabels([fr'$10^{{{x:.0f}}}$' for x in xticks])\n",
    "#     ax.set_xlabel(r'$\\log_{10}\\left[\\tau\\,\\mathrm{(s)}\\right]$')\n",
    "    ax.set_xlabel(r'$\\tau\\,(s)$')\n",
    "    ax.set_ylabel(r'$\\alpha$')\n",
    "\n",
    "    ax.scatter([np.log10(0.009), np.log10(0.031), np.log10(0.635)], [1,1,1], color=['white','black','black'], s=ms, marker='x')\n",
    "    \n",
    "plot_heatmap(ax)\n",
    "\n",
    "plt.savefig('img/heatmap.png')"
   ]
  }
 ],
 "metadata": {
  "kernelspec": {
   "display_name": "Python 3 (ipykernel)",
   "language": "python",
   "name": "python3"
  },
  "language_info": {
   "codemirror_mode": {
    "name": "ipython",
    "version": 3
   },
   "file_extension": ".py",
   "mimetype": "text/x-python",
   "name": "python",
   "nbconvert_exporter": "python",
   "pygments_lexer": "ipython3",
   "version": "3.11.5"
  }
 },
 "nbformat": 4,
 "nbformat_minor": 5
}
