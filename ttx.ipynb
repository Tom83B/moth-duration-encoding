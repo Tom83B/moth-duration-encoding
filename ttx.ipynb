{
 "cells": [
  {
   "cell_type": "code",
   "execution_count": 1,
   "id": "a9b2ec19-6b7a-4431-a7bd-4c9700e7e131",
   "metadata": {},
   "outputs": [],
   "source": [
    "from neo.io import AxonIO\n",
    "from scipy.interpolate import UnivariateSpline\n",
    "\n",
    "from utils import get_filenames, despine_ax\n",
    "from loaders import LFPRecording\n",
    "\n",
    "plt.style.use('pcb')"
   ]
  },
  {
   "cell_type": "code",
   "execution_count": 2,
   "id": "07b0059d-2a14-4a6d-918d-9733b0c1dd5c",
   "metadata": {},
   "outputs": [],
   "source": [
    "files = sorted(get_filenames('data/base recordings/TTX/', contains='abf'))\n",
    "files_controls = sorted(get_filenames('data/base recordings/TTX/controls', contains='abf'))"
   ]
  },
  {
   "cell_type": "code",
   "execution_count": 3,
   "id": "777eb9e3-7db6-470d-8ef3-8f75c76b9336",
   "metadata": {},
   "outputs": [],
   "source": [
    "filename = files[6]\n",
    "sig = 0\n",
    "reader = AxonIO(filename=filename)\n",
    "seg = reader.read_segment()\n",
    "signal = np.array(seg.analogsignals[sig])[:,1]"
   ]
  },
  {
   "cell_type": "code",
   "execution_count": 4,
   "id": "c544d70c-8c7c-401c-8520-a78999d0b0d2",
   "metadata": {},
   "outputs": [],
   "source": [
    "def round_duration(dur_exact):\n",
    "    exponent = np.floor(np.log10(dur_exact))\n",
    "    dec = 10 ** exponent\n",
    "    return np.round(dur_exact / dec) * dec\n",
    "\n",
    "def read_file(file):\n",
    "    rec = LFPRecording.from_abf(file, cutoff=15)\n",
    "    sig = 0\n",
    "    reader = AxonIO(filename=file)\n",
    "    seg = reader.read_segment()\n",
    "    dt = seg.analogsignals[0].sampling_period.base.item()\n",
    "    valve = np.array(seg.analogsignals[sig])[:,1]\n",
    "    tarr = np.arange(len(valve)) * dt\n",
    "    \n",
    "    open_ixs = np.argwhere((valve[1:] > 0.15) & (valve[:-1] <= 0.15)).flatten()\n",
    "    openings = np.array([tarr[:-1][ix] for ix in open_ixs])\n",
    "    \n",
    "    close_ixs = np.argwhere((valve[1:] < -0.15) & (valve[:-1] >= -0.15)).flatten()\n",
    "    closings = np.array([tarr[:-1][ix] for ix in close_ixs])\n",
    "    \n",
    "    durations = closings - openings\n",
    "    \n",
    "    responses = {}\n",
    "    \n",
    "    for i in range(3):\n",
    "        rd = round_duration(durations[i])\n",
    "        tarr, varr = rec.segment(openings[i]-1, closings[i]+2).to_arrays()\n",
    "        \n",
    "        base_mask = (tarr > openings[i]-1) & (tarr < openings[i]-0.1)\n",
    "        \n",
    "        f = UnivariateSpline(tarr-openings[i], varr-varr[base_mask].mean(), s=0, k=1)\n",
    "        \n",
    "        xx = np.arange(-1, 4, 0.001)\n",
    "        responses[rd] = (xx, f(xx))\n",
    "        \n",
    "    return responses"
   ]
  },
  {
   "cell_type": "code",
   "execution_count": 5,
   "id": "ed6b5e77-3456-4148-b10f-10084fe54edd",
   "metadata": {},
   "outputs": [
    {
     "data": {
      "text/plain": [
       "Text(0.0, 1.0, 'control')"
      ]
     },
     "execution_count": 5,
     "metadata": {},
     "output_type": "execute_result"
    },
    {
     "data": {
      "image/png": "[encoded data removed]",
      "text/plain": [
       "<Figure size 500x200 with 2 Axes>"
      ]
     },
     "metadata": {},
     "output_type": "display_data"
    }
   ],
   "source": [
    "fig, axes = plt.subplots(ncols=2, figsize=(5,2), sharey=True)\n",
    "\n",
    "excluded_lists = [\n",
    "    [0, 1, 3, 4, 5, 10 ,11, 12, 13, 14, 15, 16],\n",
    "    [3, 4, 6, 8, 9, 10, 11]\n",
    "]\n",
    "\n",
    "for files_list, elist, ax in zip([files, files_controls], excluded_lists, axes):\n",
    "    pairs = []\n",
    "\n",
    "    for i, file in enumerate(files_list):#[files[i] for i in [2,6,7,8,9]]:\n",
    "        if i in elist:\n",
    "            continue\n",
    "\n",
    "        recordings = read_file(file)\n",
    "\n",
    "        pairs.append(recordings[2])\n",
    "\n",
    "    varrs = np.array([p[1] for p in pairs])\n",
    "    tarr = pairs[0][0]\n",
    "    varr_mean = varrs.mean(axis=0)\n",
    "\n",
    "    for varr in varrs:\n",
    "        ax.plot(tarr, varr, c='C0', lw=0.5)\n",
    "\n",
    "    ax.plot(tarr, varr_mean, c='C0', lw=2)\n",
    "\n",
    "#     ax.set_xlabel('time (s)')\n",
    "    despine_ax(ax)\n",
    "    \n",
    "# axes[0].set_ylabel('LFP (mV)')\n",
    "\n",
    "axes[0].plot([0,0],[-3,-4], color='black', lw=2)\n",
    "axes[0].plot([0,1],[-4,-4], color='black', lw=2)\n",
    "axes[0].text(0.2, -3.75, '1mV\\n1s', ha='left')\n",
    "\n",
    "axes[0].set_title('TTX treated', loc='left')\n",
    "axes[1].set_title('control', loc='left')\n",
    "\n",
    "# plt.savefig('img/ttx_full.png')"
   ]
  },
  {
   "cell_type": "code",
   "execution_count": null,
   "id": "ca6eaac8-1942-4ddb-9574-c7ecc1f828c8",
   "metadata": {},
   "outputs": [],
   "source": []
  }
 ],
 "metadata": {
  "kernelspec": {
   "display_name": "Python 3 (ipykernel)",
   "language": "python",
   "name": "python3"
  },
  "language_info": {
   "codemirror_mode": {
    "name": "ipython",
    "version": 3
   },
   "file_extension": ".py",
   "mimetype": "text/x-python",
   "name": "python",
   "nbconvert_exporter": "python",
   "pygments_lexer": "ipython3",
   "version": "3.8.5"
  }
 },
 "nbformat": 4,
 "nbformat_minor": 5
}
